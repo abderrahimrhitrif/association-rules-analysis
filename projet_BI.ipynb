{
 "cells": [
  {
   "cell_type": "code",
   "execution_count": 2,
   "id": "3856f078",
   "metadata": {},
   "outputs": [],
   "source": [
    "import pandas as pd\n",
    "from mlxtend.preprocessing import TransactionEncoder\n",
    "from mlxtend.frequent_patterns import apriori, association_rules\n",
    "import matplotlib.pyplot as plt\n",
    "\n"
   ]
  },
  {
   "cell_type": "markdown",
   "id": "bc28651e",
   "metadata": {},
   "source": [
    "# 1. Chargement et prétraitement"
   ]
  },
  {
   "cell_type": "code",
   "execution_count": 3,
   "id": "148b14b3",
   "metadata": {},
   "outputs": [],
   "source": [
    "\n",
    "df_raw = pd.read_csv('healthcare-dataset-stroke-data.csv')\n",
    "df_raw.drop(columns=['id'], inplace=True)\n",
    "df_raw.fillna({'bmi': df_raw['bmi'].median()}, inplace=True)\n"
   ]
  },
  {
   "cell_type": "markdown",
   "id": "72f627d4",
   "metadata": {},
   "source": [
    "##  Discrétisation"
   ]
  },
  {
   "cell_type": "code",
   "execution_count": 4,
   "id": "37303e76",
   "metadata": {},
   "outputs": [
    {
     "name": "stdout",
     "output_type": "stream",
     "text": [
      "Distribution stroke:\n",
      " stroke\n",
      "0    0.951272\n",
      "1    0.048728\n",
      "Name: proportion, dtype: float64\n"
     ]
    }
   ],
   "source": [
    "\n",
    "df_raw['age_bin'] = pd.cut(\n",
    "    df_raw['age'],\n",
    "    bins=[0, 30, 45, 60, 100],\n",
    "    labels=['0-30', '31-45', '46-60', '61+']\n",
    ")\n",
    "df_raw['bmi_bin'] = pd.cut(\n",
    "    df_raw['bmi'],\n",
    "    bins=[0, 18.5, 25, 30, df_raw['bmi'].max()],\n",
    "    labels=['Underweight', 'Normal', 'Overweight', 'Obese']\n",
    ")\n",
    "df_raw['glucose_bin'] = pd.qcut(\n",
    "    df_raw['avg_glucose_level'],\n",
    "    q=4,\n",
    "    labels=['Low', 'Mid-low', 'Mid-high', 'High']\n",
    ")\n",
    "\n",
    "print(\"Distribution stroke:\\n\", df_raw['stroke'].value_counts(normalize=True))"
   ]
  },
  {
   "cell_type": "markdown",
   "id": "54afeed3",
   "metadata": {},
   "source": [
    "# 2. Construction des transactions"
   ]
  },
  {
   "cell_type": "code",
   "execution_count": 5,
   "id": "33824d70",
   "metadata": {},
   "outputs": [
    {
     "name": "stdout",
     "output_type": "stream",
     "text": [
      "Exemple de 5 transactions: [['gender=Male', 'hypertension=0', 'heart_disease=1', 'ever_married=Yes', 'work_type=Private', 'Residence_type=Urban', 'smoking_status=formerly smoked', 'age_bin=61+', 'bmi_bin=Obese', 'glucose_bin=High', 'stroke=1'], ['gender=Female', 'hypertension=0', 'heart_disease=0', 'ever_married=Yes', 'work_type=Self-employed', 'Residence_type=Rural', 'smoking_status=never smoked', 'age_bin=61+', 'bmi_bin=Overweight', 'glucose_bin=High', 'stroke=1'], ['gender=Male', 'hypertension=0', 'heart_disease=1', 'ever_married=Yes', 'work_type=Private', 'Residence_type=Rural', 'smoking_status=never smoked', 'age_bin=61+', 'bmi_bin=Obese', 'glucose_bin=Mid-high', 'stroke=1'], ['gender=Female', 'hypertension=0', 'heart_disease=0', 'ever_married=Yes', 'work_type=Private', 'Residence_type=Urban', 'smoking_status=smokes', 'age_bin=46-60', 'bmi_bin=Obese', 'glucose_bin=High', 'stroke=1'], ['gender=Female', 'hypertension=1', 'heart_disease=0', 'ever_married=Yes', 'work_type=Self-employed', 'Residence_type=Rural', 'smoking_status=never smoked', 'age_bin=61+', 'bmi_bin=Normal', 'glucose_bin=High', 'stroke=1']]\n"
     ]
    }
   ],
   "source": [
    "\n",
    "cols = [\n",
    "    'gender', 'hypertension', 'heart_disease', 'ever_married',\n",
    "    'work_type', 'Residence_type', 'smoking_status',\n",
    "    'age_bin', 'bmi_bin', 'glucose_bin'\n",
    "]\n",
    "\n",
    "transactions = []\n",
    "for _, row in df_raw.iterrows():\n",
    "    items = [f\"{col}={row[col]}\" for col in cols]\n",
    "    items.append(f\"stroke={int(row['stroke'])}\")\n",
    "    transactions.append(items)\n",
    "\n",
    "print(\"Exemple de 5 transactions:\", transactions[:5])\n",
    "\n",
    "\n"
   ]
  },
  {
   "cell_type": "markdown",
   "id": "79f0cbf1",
   "metadata": {},
   "source": [
    "# 3. Encodage transactionnel"
   ]
  },
  {
   "cell_type": "code",
   "execution_count": 6,
   "id": "68040d6b",
   "metadata": {},
   "outputs": [],
   "source": [
    "\n",
    "te = TransactionEncoder()\n",
    "te_ary = te.fit(transactions).transform(transactions)\n",
    "df_bin = pd.DataFrame(te_ary, columns=te.columns_)\n"
   ]
  },
  {
   "cell_type": "markdown",
   "id": "d1174a20",
   "metadata": {},
   "source": [
    "# 9. Analyse paramétrique"
   ]
  },
  {
   "cell_type": "code",
   "execution_count": null,
   "id": "69a34d01",
   "metadata": {},
   "outputs": [],
   "source": [
    "\n",
    "support_levels    = [0.001, 0.002, 0.003, 0.005]\n",
    "confidence_levels = [0.2, 0.4, 0.6, 0.7,0.8]\n",
    "\n",
    "def count_rules(min_sup, min_conf):\n",
    "    fi = apriori(df_bin, min_support=min_sup, use_colnames=True)\n",
    "    rs = association_rules(fi, metric='confidence', min_threshold=min_conf)\n",
    "    rs = rs[rs['consequents']\n",
    "            .apply(lambda s: 'stroke=1' in s)]\n",
    "    return len(rs)\n",
    "\n",
    "results = []\n",
    "plt.figure(figsize=(8,5))\n",
    "for sup in support_levels:\n",
    "    counts = []\n",
    "    for conf in confidence_levels:\n",
    "        n = count_rules(sup, conf)\n",
    "        counts.append(n)\n",
    "        results.append({'support': sup, 'confidence': conf, 'n_rules': n})\n",
    "    plt.plot(confidence_levels, counts, marker='o', label=f'sup={sup:.1%}')\n",
    "\n",
    "plt.xlabel('Confiance minimale')\n",
    "plt.ylabel('Nb de règles (stroke=1)')\n",
    "plt.title('Impact de support & confiance sur les règles AVC')\n",
    "plt.legend()\n",
    "plt.grid(True)\n",
    "plt.show()\n",
    "\n",
    "res_df = pd.DataFrame(results)\n",
    "print(res_df.pivot(index='support', columns='confidence', values='n_rules'))\n"
   ]
  },
  {
   "cell_type": "markdown",
   "id": "a1014230",
   "metadata": {},
   "source": [
    "# 4. Itemsets fréquents"
   ]
  },
  {
   "cell_type": "code",
   "execution_count": null,
   "id": "e9b70a32",
   "metadata": {},
   "outputs": [],
   "source": [
    "\n",
    "sup_min = 0.001  # 0.1 % (événement rare)\n",
    "freq_items = apriori(df_bin, min_support=sup_min, use_colnames=True)"
   ]
  },
  {
   "cell_type": "markdown",
   "id": "5129a785",
   "metadata": {},
   "source": [
    "# 5. Règles d'association (stroke=1)"
   ]
  },
  {
   "cell_type": "code",
   "execution_count": null,
   "id": "343497a7",
   "metadata": {},
   "outputs": [
    {
     "name": "stdout",
     "output_type": "stream",
     "text": [
      "\n",
      "Règles vers tous les regles trouver avant métriques : 1437210\n",
      "\n",
      "Règles vers stroke=1 avant métriques : 20\n"
     ]
    }
   ],
   "source": [
    "\n",
    "conf_min = 0.6    # seuil de confiance bas pour capter l’AVC rare\n",
    "rules = association_rules(freq_items, metric='confidence', min_threshold=conf_min)\n",
    "print(f\"\\nRègles vers tous les regles trouver avant métriques : {len(rules)}\")\n",
    "rules = rules[rules['consequents']\n",
    "              .apply(lambda s: 'stroke=1' in s)].copy()\n",
    "print(f\"\\nRègles vers stroke=1 avant métriques : {len(rules)}\")"
   ]
  },
  {
   "cell_type": "markdown",
   "id": "e20c5460",
   "metadata": {},
   "source": [
    "# 6. Métriques Lenca et al."
   ]
  },
  {
   "cell_type": "code",
   "execution_count": null,
   "id": "c0c7cd98",
   "metadata": {},
   "outputs": [],
   "source": [
    "\n",
    "def bayes_factor(row):\n",
    "    antecedents = list(row['antecedents'])\n",
    "    mask = df_bin[antecedents].all(axis=1)\n",
    "    p1 = df_bin[mask]['stroke=1'].mean()\n",
    "    p0 = df_bin[~mask]['stroke=1'].mean()\n",
    "    return (p1 / p0) if p0 > 0 else float('inf')\n",
    "\n",
    "def pdi(row):\n",
    "    return row['support'] - row['antecedent support'] * row['consequent support']\n",
    "\n",
    "def intimp(row):\n",
    "    return (row['support'] - row['consequent support']) / row['consequent support']\n",
    "\n",
    "rules['BayesFactor'] = [bayes_factor(r) for _, r in rules.iterrows()]\n",
    "rules['PDI']         = [pdi(r)          for _, r in rules.iterrows()]\n",
    "rules['INTIMP']      = [intimp(r)       for _, r in rules.iterrows()]"
   ]
  },
  {
   "cell_type": "markdown",
   "id": "6037be2c",
   "metadata": {},
   "source": [
    "# 7. Diagnostic avant filtrage"
   ]
  },
  {
   "cell_type": "code",
   "execution_count": null,
   "id": "c5194a99",
   "metadata": {},
   "outputs": [
    {
     "name": "stdout",
     "output_type": "stream",
     "text": [
      "\n",
      "Résumé des métriques :\n",
      "            lift  BayesFactor        PDI     INTIMP\n",
      "count  20.000000    20.000000  20.000000  20.000000\n",
      "mean   15.790746    14.385069   0.001177  -0.970493\n",
      "std     5.120628     1.294252   0.000145   0.007690\n",
      "min    12.313253    12.592593   0.001079  -0.975904\n",
      "25%    12.951877    13.310005   0.001088  -0.975904\n",
      "50%    14.878514    14.373290   0.001102  -0.972307\n",
      "75%    16.035991    15.746914   0.001267  -0.967429\n",
      "max    35.486111    16.394399   0.001618  -0.944444\n",
      "\n",
      "Règles satisfaisant chaque seuil :\n",
      " - lift ≥ 1.0 → 20 règles\n",
      " - BayesFactor ≥ 1.0 → 20 règles\n",
      " - PDI ≥ 0.0 → 20 règles\n",
      " - INTIMP ≥ 0.0 → 0 règles\n"
     ]
    }
   ],
   "source": [
    "\n",
    "thresh = {\n",
    "    'lift'        : 1.0,\n",
    "    'BayesFactor': 1.0,\n",
    "    'PDI'         : 0.0,\n",
    "    'INTIMP'      : 0.0\n",
    "}\n",
    "\n",
    "print(\"\\nRésumé des métriques :\")\n",
    "print(rules[['lift','BayesFactor','PDI','INTIMP']].describe())\n",
    "\n",
    "print(\"\\nRègles satisfaisant chaque seuil :\")\n",
    "for m, t in thresh.items():\n",
    "    print(f\" - {m} ≥ {t} → {(rules[m] >= t).sum()} règles\")"
   ]
  },
  {
   "cell_type": "markdown",
   "id": "f3819173",
   "metadata": {},
   "source": [
    "# 8. Filtrage final"
   ]
  },
  {
   "cell_type": "code",
   "execution_count": null,
   "id": "68e093bb",
   "metadata": {},
   "outputs": [
    {
     "name": "stdout",
     "output_type": "stream",
     "text": [
      "\n",
      "Règles retenues après filtrage : 20\n"
     ]
    }
   ],
   "source": [
    "\n",
    "filtered = rules[\n",
    "    (rules['lift']        >= thresh['lift']) &\n",
    "    (rules['BayesFactor'] >= thresh['BayesFactor']) &\n",
    "    (rules['PDI']         >= thresh['PDI']) \n",
    "    #&(rules['INTIMP']      >= thresh['INTIMP'])\n",
    "].sort_values('lift', ascending=False)\n",
    "\n",
    "filtered.to_csv('stroke_association_rules.csv', index=False)\n",
    "print(f\"\\nRègles retenues après filtrage : {len(filtered)}\")"
   ]
  },
  {
   "cell_type": "code",
   "execution_count": null,
   "id": "bff21d86",
   "metadata": {},
   "outputs": [],
   "source": []
  }
 ],
 "metadata": {
  "kernelspec": {
   "display_name": "Python 3",
   "language": "python",
   "name": "python3"
  },
  "language_info": {
   "codemirror_mode": {
    "name": "ipython",
    "version": 3
   },
   "file_extension": ".py",
   "mimetype": "text/x-python",
   "name": "python",
   "nbconvert_exporter": "python",
   "pygments_lexer": "ipython3",
   "version": "3.13.2"
  }
 },
 "nbformat": 4,
 "nbformat_minor": 5
}
